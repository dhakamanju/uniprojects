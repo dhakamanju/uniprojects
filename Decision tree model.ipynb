{
  "nbformat": 4,
  "nbformat_minor": 0,
  "metadata": {
    "colab": {
      "provenance": []
    },
    "kernelspec": {
      "name": "python3",
      "display_name": "Python 3"
    },
    "language_info": {
      "name": "python"
    }
  },
  "cells": [
    {
      "cell_type": "markdown",
      "source": [
        "#Assessment 3\n"
      ],
      "metadata": {
        "id": "qT_DxtqueNHJ"
      }
    },
    {
      "cell_type": "code",
      "source": [
        "import pandas as pd\n",
        "import sklearn\n",
        "import matplotlib.pyplot as plt\n",
        "from sklearn.datasets import load_wine\n",
        "from sklearn.model_selection import train_test_split\n",
        "from sklearn.tree import DecisionTreeClassifier, export_graphviz\n",
        "from sklearn.metrics import accuracy_score, classification_report\n",
        "from sklearn.tree import export_graphviz\n",
        "import graphviz\n",
        "\n",
        "# Load wine data\n",
        "data = load_wine()\n",
        "\n",
        "# Dictionary creation with the data keys and corresponding values\n",
        "data_dict = {\n",
        "    'Alcohol': data.data[:, 0],\n",
        "    'Malic acid': data.data[:, 1],\n",
        "    'Ash': data.data[:, 2],\n",
        "    'Alcalinity of ash': data.data[:, 3],\n",
        "    'Magnesium': data.data[:, 4],\n",
        "    'Total phenols': data.data[:, 5],\n",
        "    'Flavanoids': data.data[:, 6],\n",
        "    'Nonflavanoid phenols': data.data[:, 7],\n",
        "    'Proanthocyanins': data.data[:, 8],\n",
        "    'Color intensity': data.data[:, 9],\n",
        "    'Hue': data.data[:, 10],\n",
        "    'OD280/OD315 of diluted wines': data.data[:, 11],\n",
        "    'Proline': data.data[:, 12],\n",
        "    'target': data.target\n",
        "}\n",
        "\n",
        "# Initialise a pandas DataFrame with the data dictionary\n",
        "input_df = pd.DataFrame(data_dict)\n",
        "\n",
        "# Splitting data into training and test sets\n",
        "train_df, test_df = train_test_split(input_df, test_size=0.2, random_state=42)\n",
        "\n",
        "# Separate the features and target variable for training\n",
        "X_train = train_df.drop('target', axis=1)\n",
        "y_train = train_df['target']\n",
        "\n",
        "# Create and train the decision tree classifier with 'entropy'\n",
        "classifier = DecisionTreeClassifier(criterion='entropy', random_state=42)\n",
        "classifier.fit(X_train, y_train)\n",
        "\n",
        "\n",
        "X_test = test_df.drop('target', axis=1)\n",
        "y_test = test_df['target']\n",
        "\n",
        "#Test the developed model by passing the test set into the trained decision tree classifier\n",
        "y_pred = classifier.predict(X_test)\n",
        "\n",
        "#Checking the performance of the model\n",
        "accuracy = accuracy_score(y_test, y_pred)\n",
        "report = classification_report(y_test, y_pred, target_names=data.target_names)\n",
        "\n",
        "print(\"Accuracy:\", accuracy)\n",
        "print(\"\\nClassification Report:\\n\", report)\n",
        "\n",
        "# Generate DOT data automatically from the classifier\n",
        "dot_data = export_graphviz(\n",
        "    classifier,\n",
        "    out_file=None,\n",
        "    feature_names=data.feature_names,\n",
        "    class_names=data.target_names,\n",
        "    filled=True,\n",
        "    rounded=True,\n",
        "    special_characters=True\n",
        ")\n",
        "\n",
        "# Create a graph from the DOT data\n",
        "graph = graphviz.Source(dot_data)\n",
        "graph.render(\"output_graph\")  # Save the graph as output_graph.pdf\n",
        "\n",
        "# Display the graph\n",
        "graph\n"
      ],
      "metadata": {
        "colab": {
          "base_uri": "https://localhost:8080/",
          "height": 983
        },
        "id": "sAaSd0EUdg8v",
        "outputId": "e85c62b4-2ed9-4513-a908-90ecd068f2bd"
      },
      "execution_count": 3,
      "outputs": [
        {
          "output_type": "stream",
          "name": "stdout",
          "text": [
            "Accuracy: 0.9166666666666666\n",
            "\n",
            "Classification Report:\n",
            "               precision    recall  f1-score   support\n",
            "\n",
            "     class_0       0.93      1.00      0.97        14\n",
            "     class_1       0.88      1.00      0.93        14\n",
            "     class_2       1.00      0.62      0.77         8\n",
            "\n",
            "    accuracy                           0.92        36\n",
            "   macro avg       0.94      0.88      0.89        36\n",
            "weighted avg       0.93      0.92      0.91        36\n",
            "\n"
          ]
        },
        {
          "output_type": "execute_result",
          "data": {
            "image/svg+xml": "<?xml version=\"1.0\" encoding=\"UTF-8\" standalone=\"no\"?>\n<!DOCTYPE svg PUBLIC \"-//W3C//DTD SVG 1.1//EN\"\n \"http://www.w3.org/Graphics/SVG/1.1/DTD/svg11.dtd\">\n<!-- Generated by graphviz version 2.43.0 (0)\n -->\n<!-- Title: Tree Pages: 1 -->\n<svg width=\"655pt\" height=\"552pt\"\n viewBox=\"0.00 0.00 655.00 552.00\" xmlns=\"http://www.w3.org/2000/svg\" xmlns:xlink=\"http://www.w3.org/1999/xlink\">\n<g id=\"graph0\" class=\"graph\" transform=\"scale(1 1) rotate(0) translate(4 548)\">\n<title>Tree</title>\n<polygon fill=\"white\" stroke=\"transparent\" points=\"-4,4 -4,-548 651,-548 651,4 -4,4\"/>\n<!-- 0 -->\n<g id=\"node1\" class=\"node\">\n<title>0</title>\n<path fill=\"#e7fcef\" stroke=\"black\" d=\"M369.5,-544C369.5,-544 148.5,-544 148.5,-544 142.5,-544 136.5,-538 136.5,-532 136.5,-532 136.5,-473 136.5,-473 136.5,-467 142.5,-461 148.5,-461 148.5,-461 369.5,-461 369.5,-461 375.5,-461 381.5,-467 381.5,-473 381.5,-473 381.5,-532 381.5,-532 381.5,-538 375.5,-544 369.5,-544\"/>\n<text text-anchor=\"start\" x=\"144.5\" y=\"-528.8\" font-family=\"Helvetica,sans-Serif\" font-size=\"14.00\">od280/od315_of_diluted_wines ≤ 2.19</text>\n<text text-anchor=\"start\" x=\"211.5\" y=\"-513.8\" font-family=\"Helvetica,sans-Serif\" font-size=\"14.00\">entropy = 1.569</text>\n<text text-anchor=\"start\" x=\"214\" y=\"-498.8\" font-family=\"Helvetica,sans-Serif\" font-size=\"14.00\">samples = 142</text>\n<text text-anchor=\"start\" x=\"201\" y=\"-483.8\" font-family=\"Helvetica,sans-Serif\" font-size=\"14.00\">value = [45, 57, 40]</text>\n<text text-anchor=\"start\" x=\"212.5\" y=\"-468.8\" font-family=\"Helvetica,sans-Serif\" font-size=\"14.00\">class = class_1</text>\n</g>\n<!-- 1 -->\n<g id=\"node2\" class=\"node\">\n<title>1</title>\n<path fill=\"#975cea\" stroke=\"black\" d=\"M245,-425C245,-425 117,-425 117,-425 111,-425 105,-419 105,-413 105,-413 105,-354 105,-354 105,-348 111,-342 117,-342 117,-342 245,-342 245,-342 251,-342 257,-348 257,-354 257,-354 257,-413 257,-413 257,-419 251,-425 245,-425\"/>\n<text text-anchor=\"start\" x=\"113\" y=\"-409.8\" font-family=\"Helvetica,sans-Serif\" font-size=\"14.00\">color_intensity ≤ 3.825</text>\n<text text-anchor=\"start\" x=\"133.5\" y=\"-394.8\" font-family=\"Helvetica,sans-Serif\" font-size=\"14.00\">entropy = 0.607</text>\n<text text-anchor=\"start\" x=\"140\" y=\"-379.8\" font-family=\"Helvetica,sans-Serif\" font-size=\"14.00\">samples = 47</text>\n<text text-anchor=\"start\" x=\"130.5\" y=\"-364.8\" font-family=\"Helvetica,sans-Serif\" font-size=\"14.00\">value = [0, 7, 40]</text>\n<text text-anchor=\"start\" x=\"134.5\" y=\"-349.8\" font-family=\"Helvetica,sans-Serif\" font-size=\"14.00\">class = class_2</text>\n</g>\n<!-- 0&#45;&gt;1 -->\n<g id=\"edge1\" class=\"edge\">\n<title>0&#45;&gt;1</title>\n<path fill=\"none\" stroke=\"black\" d=\"M231.94,-460.91C226.07,-452.1 219.8,-442.7 213.74,-433.61\"/>\n<polygon fill=\"black\" stroke=\"black\" points=\"216.47,-431.4 208.01,-425.02 210.65,-435.28 216.47,-431.4\"/>\n<text text-anchor=\"middle\" x=\"203.11\" y=\"-445.84\" font-family=\"Helvetica,sans-Serif\" font-size=\"14.00\">True</text>\n</g>\n<!-- 6 -->\n<g id=\"node7\" class=\"node\">\n<title>6</title>\n<path fill=\"#ebfcf2\" stroke=\"black\" d=\"M388.5,-425C388.5,-425 287.5,-425 287.5,-425 281.5,-425 275.5,-419 275.5,-413 275.5,-413 275.5,-354 275.5,-354 275.5,-348 281.5,-342 287.5,-342 287.5,-342 388.5,-342 388.5,-342 394.5,-342 400.5,-348 400.5,-354 400.5,-354 400.5,-413 400.5,-413 400.5,-419 394.5,-425 388.5,-425\"/>\n<text text-anchor=\"start\" x=\"288\" y=\"-409.8\" font-family=\"Helvetica,sans-Serif\" font-size=\"14.00\">alcohol ≤ 12.785</text>\n<text text-anchor=\"start\" x=\"290.5\" y=\"-394.8\" font-family=\"Helvetica,sans-Serif\" font-size=\"14.00\">entropy = 0.998</text>\n<text text-anchor=\"start\" x=\"297\" y=\"-379.8\" font-family=\"Helvetica,sans-Serif\" font-size=\"14.00\">samples = 95</text>\n<text text-anchor=\"start\" x=\"283.5\" y=\"-364.8\" font-family=\"Helvetica,sans-Serif\" font-size=\"14.00\">value = [45, 50, 0]</text>\n<text text-anchor=\"start\" x=\"291.5\" y=\"-349.8\" font-family=\"Helvetica,sans-Serif\" font-size=\"14.00\">class = class_1</text>\n</g>\n<!-- 0&#45;&gt;6 -->\n<g id=\"edge6\" class=\"edge\">\n<title>0&#45;&gt;6</title>\n<path fill=\"none\" stroke=\"black\" d=\"M286.41,-460.91C292.41,-452.01 298.83,-442.51 305.03,-433.33\"/>\n<polygon fill=\"black\" stroke=\"black\" points=\"307.94,-435.27 310.64,-425.02 302.14,-431.35 307.94,-435.27\"/>\n<text text-anchor=\"middle\" x=\"315.4\" y=\"-445.86\" font-family=\"Helvetica,sans-Serif\" font-size=\"14.00\">False</text>\n</g>\n<!-- 2 -->\n<g id=\"node3\" class=\"node\">\n<title>2</title>\n<path fill=\"#39e581\" stroke=\"black\" d=\"M98,-298.5C98,-298.5 12,-298.5 12,-298.5 6,-298.5 0,-292.5 0,-286.5 0,-286.5 0,-242.5 0,-242.5 0,-236.5 6,-230.5 12,-230.5 12,-230.5 98,-230.5 98,-230.5 104,-230.5 110,-236.5 110,-242.5 110,-242.5 110,-286.5 110,-286.5 110,-292.5 104,-298.5 98,-298.5\"/>\n<text text-anchor=\"start\" x=\"15\" y=\"-283.3\" font-family=\"Helvetica,sans-Serif\" font-size=\"14.00\">entropy = 0.0</text>\n<text text-anchor=\"start\" x=\"17.5\" y=\"-268.3\" font-family=\"Helvetica,sans-Serif\" font-size=\"14.00\">samples = 5</text>\n<text text-anchor=\"start\" x=\"8\" y=\"-253.3\" font-family=\"Helvetica,sans-Serif\" font-size=\"14.00\">value = [0, 5, 0]</text>\n<text text-anchor=\"start\" x=\"8.5\" y=\"-238.3\" font-family=\"Helvetica,sans-Serif\" font-size=\"14.00\">class = class_1</text>\n</g>\n<!-- 1&#45;&gt;2 -->\n<g id=\"edge2\" class=\"edge\">\n<title>1&#45;&gt;2</title>\n<path fill=\"none\" stroke=\"black\" d=\"M137.28,-341.91C124.69,-330.21 110.95,-317.46 98.38,-305.78\"/>\n<polygon fill=\"black\" stroke=\"black\" points=\"100.43,-302.91 90.72,-298.67 95.66,-308.04 100.43,-302.91\"/>\n</g>\n<!-- 3 -->\n<g id=\"node4\" class=\"node\">\n<title>3</title>\n<path fill=\"#8743e6\" stroke=\"black\" d=\"M233.5,-306C233.5,-306 140.5,-306 140.5,-306 134.5,-306 128.5,-300 128.5,-294 128.5,-294 128.5,-235 128.5,-235 128.5,-229 134.5,-223 140.5,-223 140.5,-223 233.5,-223 233.5,-223 239.5,-223 245.5,-229 245.5,-235 245.5,-235 245.5,-294 245.5,-294 245.5,-300 239.5,-306 233.5,-306\"/>\n<text text-anchor=\"start\" x=\"139.5\" y=\"-290.8\" font-family=\"Helvetica,sans-Serif\" font-size=\"14.00\">flavanoids ≤ 1.4</text>\n<text text-anchor=\"start\" x=\"139.5\" y=\"-275.8\" font-family=\"Helvetica,sans-Serif\" font-size=\"14.00\">entropy = 0.276</text>\n<text text-anchor=\"start\" x=\"146\" y=\"-260.8\" font-family=\"Helvetica,sans-Serif\" font-size=\"14.00\">samples = 42</text>\n<text text-anchor=\"start\" x=\"136.5\" y=\"-245.8\" font-family=\"Helvetica,sans-Serif\" font-size=\"14.00\">value = [0, 2, 40]</text>\n<text text-anchor=\"start\" x=\"140.5\" y=\"-230.8\" font-family=\"Helvetica,sans-Serif\" font-size=\"14.00\">class = class_2</text>\n</g>\n<!-- 1&#45;&gt;3 -->\n<g id=\"edge3\" class=\"edge\">\n<title>1&#45;&gt;3</title>\n<path fill=\"none\" stroke=\"black\" d=\"M183.08,-341.91C183.51,-333.56 183.97,-324.67 184.41,-316.02\"/>\n<polygon fill=\"black\" stroke=\"black\" points=\"187.91,-316.19 184.92,-306.02 180.91,-315.83 187.91,-316.19\"/>\n</g>\n<!-- 4 -->\n<g id=\"node5\" class=\"node\">\n<title>4</title>\n<path fill=\"#8139e5\" stroke=\"black\" d=\"M175.5,-179.5C175.5,-179.5 82.5,-179.5 82.5,-179.5 76.5,-179.5 70.5,-173.5 70.5,-167.5 70.5,-167.5 70.5,-123.5 70.5,-123.5 70.5,-117.5 76.5,-111.5 82.5,-111.5 82.5,-111.5 175.5,-111.5 175.5,-111.5 181.5,-111.5 187.5,-117.5 187.5,-123.5 187.5,-123.5 187.5,-167.5 187.5,-167.5 187.5,-173.5 181.5,-179.5 175.5,-179.5\"/>\n<text text-anchor=\"start\" x=\"89\" y=\"-164.3\" font-family=\"Helvetica,sans-Serif\" font-size=\"14.00\">entropy = 0.0</text>\n<text text-anchor=\"start\" x=\"88\" y=\"-149.3\" font-family=\"Helvetica,sans-Serif\" font-size=\"14.00\">samples = 40</text>\n<text text-anchor=\"start\" x=\"78.5\" y=\"-134.3\" font-family=\"Helvetica,sans-Serif\" font-size=\"14.00\">value = [0, 0, 40]</text>\n<text text-anchor=\"start\" x=\"82.5\" y=\"-119.3\" font-family=\"Helvetica,sans-Serif\" font-size=\"14.00\">class = class_2</text>\n</g>\n<!-- 3&#45;&gt;4 -->\n<g id=\"edge4\" class=\"edge\">\n<title>3&#45;&gt;4</title>\n<path fill=\"none\" stroke=\"black\" d=\"M166.88,-222.91C161.41,-211.87 155.47,-199.9 149.96,-188.77\"/>\n<polygon fill=\"black\" stroke=\"black\" points=\"153.02,-187.07 145.44,-179.67 146.75,-190.18 153.02,-187.07\"/>\n</g>\n<!-- 5 -->\n<g id=\"node6\" class=\"node\">\n<title>5</title>\n<path fill=\"#39e581\" stroke=\"black\" d=\"M304,-179.5C304,-179.5 218,-179.5 218,-179.5 212,-179.5 206,-173.5 206,-167.5 206,-167.5 206,-123.5 206,-123.5 206,-117.5 212,-111.5 218,-111.5 218,-111.5 304,-111.5 304,-111.5 310,-111.5 316,-117.5 316,-123.5 316,-123.5 316,-167.5 316,-167.5 316,-173.5 310,-179.5 304,-179.5\"/>\n<text text-anchor=\"start\" x=\"221\" y=\"-164.3\" font-family=\"Helvetica,sans-Serif\" font-size=\"14.00\">entropy = 0.0</text>\n<text text-anchor=\"start\" x=\"223.5\" y=\"-149.3\" font-family=\"Helvetica,sans-Serif\" font-size=\"14.00\">samples = 2</text>\n<text text-anchor=\"start\" x=\"214\" y=\"-134.3\" font-family=\"Helvetica,sans-Serif\" font-size=\"14.00\">value = [0, 2, 0]</text>\n<text text-anchor=\"start\" x=\"214.5\" y=\"-119.3\" font-family=\"Helvetica,sans-Serif\" font-size=\"14.00\">class = class_1</text>\n</g>\n<!-- 3&#45;&gt;5 -->\n<g id=\"edge5\" class=\"edge\">\n<title>3&#45;&gt;5</title>\n<path fill=\"none\" stroke=\"black\" d=\"M212.67,-222.91C219.72,-211.76 227.38,-199.66 234.47,-188.44\"/>\n<polygon fill=\"black\" stroke=\"black\" points=\"237.64,-189.99 240.02,-179.67 231.72,-186.25 237.64,-189.99\"/>\n</g>\n<!-- 7 -->\n<g id=\"node8\" class=\"node\">\n<title>7</title>\n<path fill=\"#39e581\" stroke=\"black\" d=\"M379.5,-298.5C379.5,-298.5 286.5,-298.5 286.5,-298.5 280.5,-298.5 274.5,-292.5 274.5,-286.5 274.5,-286.5 274.5,-242.5 274.5,-242.5 274.5,-236.5 280.5,-230.5 286.5,-230.5 286.5,-230.5 379.5,-230.5 379.5,-230.5 385.5,-230.5 391.5,-236.5 391.5,-242.5 391.5,-242.5 391.5,-286.5 391.5,-286.5 391.5,-292.5 385.5,-298.5 379.5,-298.5\"/>\n<text text-anchor=\"start\" x=\"293\" y=\"-283.3\" font-family=\"Helvetica,sans-Serif\" font-size=\"14.00\">entropy = 0.0</text>\n<text text-anchor=\"start\" x=\"292\" y=\"-268.3\" font-family=\"Helvetica,sans-Serif\" font-size=\"14.00\">samples = 44</text>\n<text text-anchor=\"start\" x=\"282.5\" y=\"-253.3\" font-family=\"Helvetica,sans-Serif\" font-size=\"14.00\">value = [0, 44, 0]</text>\n<text text-anchor=\"start\" x=\"286.5\" y=\"-238.3\" font-family=\"Helvetica,sans-Serif\" font-size=\"14.00\">class = class_1</text>\n</g>\n<!-- 6&#45;&gt;7 -->\n<g id=\"edge7\" class=\"edge\">\n<title>6&#45;&gt;7</title>\n<path fill=\"none\" stroke=\"black\" d=\"M336.27,-341.91C335.81,-331.2 335.31,-319.62 334.85,-308.78\"/>\n<polygon fill=\"black\" stroke=\"black\" points=\"338.34,-308.51 334.42,-298.67 331.35,-308.81 338.34,-308.51\"/>\n</g>\n<!-- 8 -->\n<g id=\"node9\" class=\"node\">\n<title>8</title>\n<path fill=\"#e89253\" stroke=\"black\" d=\"M514.5,-306C514.5,-306 421.5,-306 421.5,-306 415.5,-306 409.5,-300 409.5,-294 409.5,-294 409.5,-235 409.5,-235 409.5,-229 415.5,-223 421.5,-223 421.5,-223 514.5,-223 514.5,-223 520.5,-223 526.5,-229 526.5,-235 526.5,-235 526.5,-294 526.5,-294 526.5,-300 520.5,-306 514.5,-306\"/>\n<text text-anchor=\"start\" x=\"423\" y=\"-290.8\" font-family=\"Helvetica,sans-Serif\" font-size=\"14.00\">proline ≤ 655.0</text>\n<text text-anchor=\"start\" x=\"420.5\" y=\"-275.8\" font-family=\"Helvetica,sans-Serif\" font-size=\"14.00\">entropy = 0.523</text>\n<text text-anchor=\"start\" x=\"427\" y=\"-260.8\" font-family=\"Helvetica,sans-Serif\" font-size=\"14.00\">samples = 51</text>\n<text text-anchor=\"start\" x=\"417.5\" y=\"-245.8\" font-family=\"Helvetica,sans-Serif\" font-size=\"14.00\">value = [45, 6, 0]</text>\n<text text-anchor=\"start\" x=\"421.5\" y=\"-230.8\" font-family=\"Helvetica,sans-Serif\" font-size=\"14.00\">class = class_0</text>\n</g>\n<!-- 6&#45;&gt;8 -->\n<g id=\"edge8\" class=\"edge\">\n<title>6&#45;&gt;8</title>\n<path fill=\"none\" stroke=\"black\" d=\"M383.1,-341.91C393.49,-332.56 404.62,-322.54 415.3,-312.93\"/>\n<polygon fill=\"black\" stroke=\"black\" points=\"417.89,-315.31 422.98,-306.02 413.2,-310.11 417.89,-315.31\"/>\n</g>\n<!-- 9 -->\n<g id=\"node10\" class=\"node\">\n<title>9</title>\n<path fill=\"#39e581\" stroke=\"black\" d=\"M437,-179.5C437,-179.5 351,-179.5 351,-179.5 345,-179.5 339,-173.5 339,-167.5 339,-167.5 339,-123.5 339,-123.5 339,-117.5 345,-111.5 351,-111.5 351,-111.5 437,-111.5 437,-111.5 443,-111.5 449,-117.5 449,-123.5 449,-123.5 449,-167.5 449,-167.5 449,-173.5 443,-179.5 437,-179.5\"/>\n<text text-anchor=\"start\" x=\"354\" y=\"-164.3\" font-family=\"Helvetica,sans-Serif\" font-size=\"14.00\">entropy = 0.0</text>\n<text text-anchor=\"start\" x=\"356.5\" y=\"-149.3\" font-family=\"Helvetica,sans-Serif\" font-size=\"14.00\">samples = 5</text>\n<text text-anchor=\"start\" x=\"347\" y=\"-134.3\" font-family=\"Helvetica,sans-Serif\" font-size=\"14.00\">value = [0, 5, 0]</text>\n<text text-anchor=\"start\" x=\"347.5\" y=\"-119.3\" font-family=\"Helvetica,sans-Serif\" font-size=\"14.00\">class = class_1</text>\n</g>\n<!-- 8&#45;&gt;9 -->\n<g id=\"edge9\" class=\"edge\">\n<title>8&#45;&gt;9</title>\n<path fill=\"none\" stroke=\"black\" d=\"M442.33,-222.91C435.28,-211.76 427.62,-199.66 420.53,-188.44\"/>\n<polygon fill=\"black\" stroke=\"black\" points=\"423.28,-186.25 414.98,-179.67 417.36,-189.99 423.28,-186.25\"/>\n</g>\n<!-- 10 -->\n<g id=\"node11\" class=\"node\">\n<title>10</title>\n<path fill=\"#e6843d\" stroke=\"black\" d=\"M572.5,-187C572.5,-187 479.5,-187 479.5,-187 473.5,-187 467.5,-181 467.5,-175 467.5,-175 467.5,-116 467.5,-116 467.5,-110 473.5,-104 479.5,-104 479.5,-104 572.5,-104 572.5,-104 578.5,-104 584.5,-110 584.5,-116 584.5,-116 584.5,-175 584.5,-175 584.5,-181 578.5,-187 572.5,-187\"/>\n<text text-anchor=\"start\" x=\"494\" y=\"-171.8\" font-family=\"Helvetica,sans-Serif\" font-size=\"14.00\">hue ≤ 1.28</text>\n<text text-anchor=\"start\" x=\"478.5\" y=\"-156.8\" font-family=\"Helvetica,sans-Serif\" font-size=\"14.00\">entropy = 0.151</text>\n<text text-anchor=\"start\" x=\"485\" y=\"-141.8\" font-family=\"Helvetica,sans-Serif\" font-size=\"14.00\">samples = 46</text>\n<text text-anchor=\"start\" x=\"475.5\" y=\"-126.8\" font-family=\"Helvetica,sans-Serif\" font-size=\"14.00\">value = [45, 1, 0]</text>\n<text text-anchor=\"start\" x=\"479.5\" y=\"-111.8\" font-family=\"Helvetica,sans-Serif\" font-size=\"14.00\">class = class_0</text>\n</g>\n<!-- 8&#45;&gt;10 -->\n<g id=\"edge10\" class=\"edge\">\n<title>8&#45;&gt;10</title>\n<path fill=\"none\" stroke=\"black\" d=\"M488.12,-222.91C492.4,-214.29 496.96,-205.09 501.37,-196.17\"/>\n<polygon fill=\"black\" stroke=\"black\" points=\"504.61,-197.53 505.91,-187.02 498.34,-194.43 504.61,-197.53\"/>\n</g>\n<!-- 11 -->\n<g id=\"node12\" class=\"node\">\n<title>11</title>\n<path fill=\"#e58139\" stroke=\"black\" d=\"M506.5,-68C506.5,-68 413.5,-68 413.5,-68 407.5,-68 401.5,-62 401.5,-56 401.5,-56 401.5,-12 401.5,-12 401.5,-6 407.5,0 413.5,0 413.5,0 506.5,0 506.5,0 512.5,0 518.5,-6 518.5,-12 518.5,-12 518.5,-56 518.5,-56 518.5,-62 512.5,-68 506.5,-68\"/>\n<text text-anchor=\"start\" x=\"420\" y=\"-52.8\" font-family=\"Helvetica,sans-Serif\" font-size=\"14.00\">entropy = 0.0</text>\n<text text-anchor=\"start\" x=\"419\" y=\"-37.8\" font-family=\"Helvetica,sans-Serif\" font-size=\"14.00\">samples = 45</text>\n<text text-anchor=\"start\" x=\"409.5\" y=\"-22.8\" font-family=\"Helvetica,sans-Serif\" font-size=\"14.00\">value = [45, 0, 0]</text>\n<text text-anchor=\"start\" x=\"413.5\" y=\"-7.8\" font-family=\"Helvetica,sans-Serif\" font-size=\"14.00\">class = class_0</text>\n</g>\n<!-- 10&#45;&gt;11 -->\n<g id=\"edge11\" class=\"edge\">\n<title>10&#45;&gt;11</title>\n<path fill=\"none\" stroke=\"black\" d=\"M501.42,-103.73C496.15,-94.97 490.56,-85.7 485.26,-76.91\"/>\n<polygon fill=\"black\" stroke=\"black\" points=\"488.23,-75.06 480.07,-68.3 482.24,-78.67 488.23,-75.06\"/>\n</g>\n<!-- 12 -->\n<g id=\"node13\" class=\"node\">\n<title>12</title>\n<path fill=\"#39e581\" stroke=\"black\" d=\"M635,-68C635,-68 549,-68 549,-68 543,-68 537,-62 537,-56 537,-56 537,-12 537,-12 537,-6 543,0 549,0 549,0 635,0 635,0 641,0 647,-6 647,-12 647,-12 647,-56 647,-56 647,-62 641,-68 635,-68\"/>\n<text text-anchor=\"start\" x=\"552\" y=\"-52.8\" font-family=\"Helvetica,sans-Serif\" font-size=\"14.00\">entropy = 0.0</text>\n<text text-anchor=\"start\" x=\"554.5\" y=\"-37.8\" font-family=\"Helvetica,sans-Serif\" font-size=\"14.00\">samples = 1</text>\n<text text-anchor=\"start\" x=\"545\" y=\"-22.8\" font-family=\"Helvetica,sans-Serif\" font-size=\"14.00\">value = [0, 1, 0]</text>\n<text text-anchor=\"start\" x=\"545.5\" y=\"-7.8\" font-family=\"Helvetica,sans-Serif\" font-size=\"14.00\">class = class_1</text>\n</g>\n<!-- 10&#45;&gt;12 -->\n<g id=\"edge12\" class=\"edge\">\n<title>10&#45;&gt;12</title>\n<path fill=\"none\" stroke=\"black\" d=\"M550.58,-103.73C555.85,-94.97 561.44,-85.7 566.74,-76.91\"/>\n<polygon fill=\"black\" stroke=\"black\" points=\"569.76,-78.67 571.93,-68.3 563.77,-75.06 569.76,-78.67\"/>\n</g>\n</g>\n</svg>\n",
            "text/plain": [
              "<graphviz.sources.Source at 0x7b98d72b8d60>"
            ]
          },
          "metadata": {},
          "execution_count": 3
        }
      ]
    }
  ]
}