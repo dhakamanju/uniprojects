{
  "nbformat": 4,
  "nbformat_minor": 0,
  "metadata": {
    "colab": {
      "provenance": []
    },
    "kernelspec": {
      "name": "python3",
      "display_name": "Python 3"
    },
    "language_info": {
      "name": "python"
    }
  },
  "cells": [
    {
      "cell_type": "markdown",
      "source": [
        "#Task 1\n",
        "Code that manages the scores for a computer game and prints the leaderboard."
      ],
      "metadata": {
        "id": "am62OVtmLvxu"
      }
    },
    {
      "cell_type": "code",
      "source": [
        "class ScoreEntry:\n",
        "    def __init__(self, name, score):\n",
        "        self.name = name\n",
        "        self.score = score\n",
        "\n",
        "\n",
        "def get_score(score_entry):\n",
        "    return score_entry.score\n",
        "\n",
        "\n",
        "class Scoreboard:\n",
        "    def __init__(self):\n",
        "        self.scores = []\n",
        "\n",
        "    def add_score(self, name, score):\n",
        "        self.scores.append(ScoreEntry(name, score))\n",
        "\n",
        "    def print_leaderboard(self):\n",
        "        sorted_scores = sorted(self.scores, key=get_score, reverse=True)\n",
        "        top_three = sorted_scores[:3]\n",
        "        for score_entry in top_three:\n",
        "            print(f'{score_entry.name}: {score_entry.score}')\n",
        "\n",
        "\n",
        "scoreboard = Scoreboard()\n",
        "scoreboard.add_score('Alice', 7821)\n",
        "scoreboard.add_score('Bob', 12103)\n",
        "scoreboard.add_score('Charlie', 8762)\n",
        "scoreboard.add_score('Denise', 6573)\n",
        "scoreboard.print_leaderboard()"
      ],
      "metadata": {
        "colab": {
          "base_uri": "https://localhost:8080/"
        },
        "id": "EmjKryi1Ld7p",
        "outputId": "41c20e66-35fd-431a-f406-7259eff1aed1"
      },
      "execution_count": null,
      "outputs": [
        {
          "output_type": "stream",
          "name": "stdout",
          "text": [
            "Bob: 12103\n",
            "Charlie: 8762\n",
            "Alice: 7821\n"
          ]
        }
      ]
    },
    {
      "cell_type": "markdown",
      "source": [
        "#Task 2\n",
        "Write a simple program to track time spent on miscellaneous chores."
      ],
      "metadata": {
        "id": "SiPeKqeZMcvT"
      }
    },
    {
      "cell_type": "code",
      "source": [
        "class ChoreTracker:\n",
        "    def __init__(self):\n",
        "        self.chores = {}\n",
        "\n",
        "    def add_hours(self, chore, hours):\n",
        "        if chore in self.chores:\n",
        "            self.chores[chore] += hours\n",
        "        else:\n",
        "            self.chores[chore] = hours\n",
        "\n",
        "    def print_summary(self):\n",
        "        total_hours = 0\n",
        "        for chore, hours in self.chores.items():\n",
        "            print(f'{chore}: {hours:.2f} hours')\n",
        "            total_hours += hours\n",
        "        print(f'TOTAL: {total_hours:.2f} hours')\n",
        "\n",
        "\n",
        "tracker = ChoreTracker()\n",
        "\n",
        "tracker.add_hours('sweeping', 0.75)\n",
        "tracker.add_hours('laundry', 0.5)\n",
        "tracker.add_hours('working', 6)\n",
        "tracker.add_hours('mopping', 0.5)\n",
        "tracker.add_hours('laundry', 1)\n",
        "tracker.add_hours('working', 5.5)\n",
        "\n",
        "tracker.print_summary()"
      ],
      "metadata": {
        "colab": {
          "base_uri": "https://localhost:8080/"
        },
        "id": "-s5zYfOQLeVY",
        "outputId": "787c8366-7eb5-4dab-95b3-eb5dd831e085"
      },
      "execution_count": null,
      "outputs": [
        {
          "output_type": "stream",
          "name": "stdout",
          "text": [
            "sweeping: 0.75 hours\n",
            "laundry: 1.50 hours\n",
            "working: 11.50 hours\n",
            "mopping: 0.50 hours\n",
            "TOTAL: 14.25 hours\n"
          ]
        }
      ]
    },
    {
      "cell_type": "markdown",
      "source": [
        "#Task 3 A\n",
        "Write code that handles the transfer of funds from one bank account to another."
      ],
      "metadata": {
        "id": "2QeTt2ogMlTE"
      }
    },
    {
      "cell_type": "code",
      "source": [
        "class BankAccount:\n",
        "    def __init__(self, name, initial_balance):\n",
        "        self.name = name\n",
        "        self.balance = initial_balance\n",
        "\n",
        "    def deposit(self, amount):\n",
        "        self.balance = self.balance + amount\n",
        "\n",
        "    def withdraw(self, amount):\n",
        "        self.balance = self.balance - amount\n",
        "\n",
        "\n",
        "def print_balances(account_a, account_b):\n",
        "    print('== Account balances ==')\n",
        "    print(f'  {account_a.name}: ${account_a.balance:.2f}')\n",
        "    print(f'  {account_b.name}: ${account_b.balance:.2f}')\n",
        "\n",
        "\n",
        "def transfer_funds(amount, from_account, to_account):\n",
        "    from_account.withdraw(amount)\n",
        "    to_account.deposit(amount)\n",
        "\n",
        "\n",
        "account_a = BankAccount('Alice', 100)\n",
        "account_b = BankAccount('Bob', 100)\n",
        "print_balances(account_a, account_b)\n",
        "\n",
        "another_transfer = 'y'\n",
        "while another_transfer == 'y':\n",
        "    amount = float(input('Enter transfer amount ($): '))\n",
        "\n",
        "    transfer_funds(amount, account_a, account_b)\n",
        "\n",
        "    print_balances(account_a, account_b)\n",
        "    another_transfer = input('Perform another transfer? (y/n): ')\n"
      ],
      "metadata": {
        "colab": {
          "base_uri": "https://localhost:8080/"
        },
        "id": "pRXsawBKMp-O",
        "outputId": "7161a14f-8980-4dc0-d346-40451f7b9996"
      },
      "execution_count": null,
      "outputs": [
        {
          "name": "stdout",
          "output_type": "stream",
          "text": [
            "== Account balances ==\n",
            "  Alice: $100.00\n",
            "  Bob: $100.00\n",
            "Enter transfer amount ($): 30\n",
            "== Account balances ==\n",
            "  Alice: $70.00\n",
            "  Bob: $130.00\n",
            "Perform another transfer? (y/n): y\n",
            "Enter transfer amount ($): 30\n",
            "== Account balances ==\n",
            "  Alice: $40.00\n",
            "  Bob: $160.00\n",
            "Perform another transfer? (y/n): y\n",
            "Enter transfer amount ($): 30\n",
            "== Account balances ==\n",
            "  Alice: $10.00\n",
            "  Bob: $190.00\n",
            "Perform another transfer? (y/n): y\n",
            "Enter transfer amount ($): 30\n",
            "== Account balances ==\n",
            "  Alice: $-20.00\n",
            "  Bob: $220.00\n",
            "Perform another transfer? (y/n): n\n"
          ]
        }
      ]
    },
    {
      "cell_type": "markdown",
      "source": [
        "#Task 3 B\n"
      ],
      "metadata": {
        "id": "tAHAGvf4Oh_D"
      }
    },
    {
      "cell_type": "code",
      "source": [
        "class BankAccount:\n",
        "    def __init__(self, name, initial_balance):\n",
        "        self.name = name\n",
        "        self.balance = initial_balance\n",
        "\n",
        "    def deposit(self, amount):\n",
        "        self.balance = self.balance + amount\n",
        "\n",
        "    def withdraw(self, amount):\n",
        "        if amount > self.balance:\n",
        "            raise ValueError(\"Balance would be negative after withdrawal\")\n",
        "        else:\n",
        "            self.balance = self.balance - amount\n",
        "\n",
        "def print_balances(account_a, account_b):\n",
        "    print('== Account balances ==')\n",
        "    print(f'  {account_a.name}: ${account_a.balance:.2f}')\n",
        "    print(f'  {account_b.name}: ${account_b.balance:.2f}')\n",
        "\n",
        "def transfer_funds(amount, from_account, to_account):\n",
        "    from_account.withdraw(amount)\n",
        "    to_account.deposit(amount)\n",
        "\n",
        "account_a = BankAccount('Alice', 100)\n",
        "account_b = BankAccount('Bob', 100)\n",
        "print_balances(account_a, account_b)\n",
        "\n",
        "another_transfer = 'y'\n",
        "while another_transfer == 'y':\n",
        "    amount = float(input('Enter transfer amount ($): '))\n",
        "\n",
        "    transfer_funds(amount, account_a, account_b)\n",
        "\n",
        "    print_balances(account_a, account_b)\n",
        "    another_transfer = input('Perform another transfer? (y/n): ')\n"
      ],
      "metadata": {
        "colab": {
          "base_uri": "https://localhost:8080/",
          "height": 512
        },
        "id": "79rznBpgOjzT",
        "outputId": "fe44b384-5acd-4f36-9bac-ef7761b5f337"
      },
      "execution_count": null,
      "outputs": [
        {
          "name": "stdout",
          "output_type": "stream",
          "text": [
            "== Account balances ==\n",
            "  Alice: $100.00\n",
            "  Bob: $100.00\n",
            "Enter transfer amount ($): 30\n",
            "== Account balances ==\n",
            "  Alice: $70.00\n",
            "  Bob: $130.00\n",
            "Perform another transfer? (y/n): y\n",
            "Enter transfer amount ($): 100\n"
          ]
        },
        {
          "output_type": "error",
          "ename": "ValueError",
          "evalue": "Balance would be negative after withdrawal",
          "traceback": [
            "\u001b[0;31m---------------------------------------------------------------------------\u001b[0m",
            "\u001b[0;31mValueError\u001b[0m                                Traceback (most recent call last)",
            "\u001b[0;32m<ipython-input-9-51aea5801176>\u001b[0m in \u001b[0;36m<cell line: 28>\u001b[0;34m()\u001b[0m\n\u001b[1;32m     29\u001b[0m     \u001b[0mamount\u001b[0m \u001b[0;34m=\u001b[0m \u001b[0mfloat\u001b[0m\u001b[0;34m(\u001b[0m\u001b[0minput\u001b[0m\u001b[0;34m(\u001b[0m\u001b[0;34m'Enter transfer amount ($): '\u001b[0m\u001b[0;34m)\u001b[0m\u001b[0;34m)\u001b[0m\u001b[0;34m\u001b[0m\u001b[0;34m\u001b[0m\u001b[0m\n\u001b[1;32m     30\u001b[0m \u001b[0;34m\u001b[0m\u001b[0m\n\u001b[0;32m---> 31\u001b[0;31m     \u001b[0mtransfer_funds\u001b[0m\u001b[0;34m(\u001b[0m\u001b[0mamount\u001b[0m\u001b[0;34m,\u001b[0m \u001b[0maccount_a\u001b[0m\u001b[0;34m,\u001b[0m \u001b[0maccount_b\u001b[0m\u001b[0;34m)\u001b[0m\u001b[0;34m\u001b[0m\u001b[0;34m\u001b[0m\u001b[0m\n\u001b[0m\u001b[1;32m     32\u001b[0m \u001b[0;34m\u001b[0m\u001b[0m\n\u001b[1;32m     33\u001b[0m     \u001b[0mprint_balances\u001b[0m\u001b[0;34m(\u001b[0m\u001b[0maccount_a\u001b[0m\u001b[0;34m,\u001b[0m \u001b[0maccount_b\u001b[0m\u001b[0;34m)\u001b[0m\u001b[0;34m\u001b[0m\u001b[0;34m\u001b[0m\u001b[0m\n",
            "\u001b[0;32m<ipython-input-9-51aea5801176>\u001b[0m in \u001b[0;36mtransfer_funds\u001b[0;34m(amount, from_account, to_account)\u001b[0m\n\u001b[1;32m     18\u001b[0m \u001b[0;34m\u001b[0m\u001b[0m\n\u001b[1;32m     19\u001b[0m \u001b[0;32mdef\u001b[0m \u001b[0mtransfer_funds\u001b[0m\u001b[0;34m(\u001b[0m\u001b[0mamount\u001b[0m\u001b[0;34m,\u001b[0m \u001b[0mfrom_account\u001b[0m\u001b[0;34m,\u001b[0m \u001b[0mto_account\u001b[0m\u001b[0;34m)\u001b[0m\u001b[0;34m:\u001b[0m\u001b[0;34m\u001b[0m\u001b[0;34m\u001b[0m\u001b[0m\n\u001b[0;32m---> 20\u001b[0;31m     \u001b[0mfrom_account\u001b[0m\u001b[0;34m.\u001b[0m\u001b[0mwithdraw\u001b[0m\u001b[0;34m(\u001b[0m\u001b[0mamount\u001b[0m\u001b[0;34m)\u001b[0m\u001b[0;34m\u001b[0m\u001b[0;34m\u001b[0m\u001b[0m\n\u001b[0m\u001b[1;32m     21\u001b[0m     \u001b[0mto_account\u001b[0m\u001b[0;34m.\u001b[0m\u001b[0mdeposit\u001b[0m\u001b[0;34m(\u001b[0m\u001b[0mamount\u001b[0m\u001b[0;34m)\u001b[0m\u001b[0;34m\u001b[0m\u001b[0;34m\u001b[0m\u001b[0m\n\u001b[1;32m     22\u001b[0m \u001b[0;34m\u001b[0m\u001b[0m\n",
            "\u001b[0;32m<ipython-input-9-51aea5801176>\u001b[0m in \u001b[0;36mwithdraw\u001b[0;34m(self, amount)\u001b[0m\n\u001b[1;32m      9\u001b[0m     \u001b[0;32mdef\u001b[0m \u001b[0mwithdraw\u001b[0m\u001b[0;34m(\u001b[0m\u001b[0mself\u001b[0m\u001b[0;34m,\u001b[0m \u001b[0mamount\u001b[0m\u001b[0;34m)\u001b[0m\u001b[0;34m:\u001b[0m\u001b[0;34m\u001b[0m\u001b[0;34m\u001b[0m\u001b[0m\n\u001b[1;32m     10\u001b[0m         \u001b[0;32mif\u001b[0m \u001b[0mamount\u001b[0m \u001b[0;34m>\u001b[0m \u001b[0mself\u001b[0m\u001b[0;34m.\u001b[0m\u001b[0mbalance\u001b[0m\u001b[0;34m:\u001b[0m\u001b[0;34m\u001b[0m\u001b[0;34m\u001b[0m\u001b[0m\n\u001b[0;32m---> 11\u001b[0;31m             \u001b[0;32mraise\u001b[0m \u001b[0mValueError\u001b[0m\u001b[0;34m(\u001b[0m\u001b[0;34m\"Balance would be negative after withdrawal\"\u001b[0m\u001b[0;34m)\u001b[0m\u001b[0;34m\u001b[0m\u001b[0;34m\u001b[0m\u001b[0m\n\u001b[0m\u001b[1;32m     12\u001b[0m         \u001b[0mself\u001b[0m\u001b[0;34m.\u001b[0m\u001b[0mbalance\u001b[0m \u001b[0;34m=\u001b[0m \u001b[0mself\u001b[0m\u001b[0;34m.\u001b[0m\u001b[0mbalance\u001b[0m \u001b[0;34m-\u001b[0m \u001b[0mamount\u001b[0m\u001b[0;34m\u001b[0m\u001b[0;34m\u001b[0m\u001b[0m\n\u001b[1;32m     13\u001b[0m \u001b[0;34m\u001b[0m\u001b[0m\n",
            "\u001b[0;31mValueError\u001b[0m: Balance would be negative after withdrawal"
          ]
        }
      ]
    },
    {
      "cell_type": "markdown",
      "source": [
        "#Task 3 C"
      ],
      "metadata": {
        "id": "XM6Q7COtQSh2"
      }
    },
    {
      "cell_type": "code",
      "source": [
        "class BankAccount:\n",
        "    def __init__(self, name, initial_balance):\n",
        "        self.name = name\n",
        "        self.balance = initial_balance\n",
        "\n",
        "    def deposit(self, amount):\n",
        "        self.balance = self.balance + amount\n",
        "\n",
        "    def withdraw(self, amount):\n",
        "        if amount > self.balance:\n",
        "            raise ValueError(f\"<< Error transferring Funds >>\")\n",
        "        self.balance = self.balance - amount\n",
        "\n",
        "def print_balances(account_a, account_b):\n",
        "    print('== Account balances ==')\n",
        "    print(f'  {account_a.name}: ${account_a.balance:.2f}')\n",
        "    print(f'  {account_b.name}: ${account_b.balance:.2f}')\n",
        "\n",
        "def transfer_funds(amount, from_account, to_account):\n",
        "    from_account.withdraw(amount)\n",
        "    to_account.deposit(amount)\n",
        "\n",
        "account_a = BankAccount('Alice', 100)\n",
        "account_b = BankAccount('Bob', 100)\n",
        "print_balances(account_a, account_b)\n",
        "\n",
        "another_transfer = 'y'\n",
        "while another_transfer == 'y':\n",
        "    amount = float(input('Enter transfer amount ($): '))\n",
        "\n",
        "    try:\n",
        "        transfer_funds(amount, account_a, account_b)\n",
        "    except ValueError as e:\n",
        "        print(e)\n",
        "\n",
        "    print_balances(account_a, account_b)\n",
        "    another_transfer = input('Perform another transfer? (y/n): ')\n"
      ],
      "metadata": {
        "colab": {
          "base_uri": "https://localhost:8080/"
        },
        "id": "9O8qwkiRQU9J",
        "outputId": "df4d23ef-470a-4c48-94da-f9a3eb494a84"
      },
      "execution_count": null,
      "outputs": [
        {
          "name": "stdout",
          "output_type": "stream",
          "text": [
            "== Account balances ==\n",
            "  Alice: $100.00\n",
            "  Bob: $100.00\n",
            "Enter transfer amount ($): 50\n",
            "== Account balances ==\n",
            "  Alice: $50.00\n",
            "  Bob: $150.00\n",
            "Perform another transfer? (y/n): y\n",
            "Enter transfer amount ($): 90\n",
            "<< Error transferring Funds >>\n",
            "== Account balances ==\n",
            "  Alice: $50.00\n",
            "  Bob: $150.00\n",
            "Perform another transfer? (y/n): y\n",
            "Enter transfer amount ($): 30\n",
            "== Account balances ==\n",
            "  Alice: $20.00\n",
            "  Bob: $180.00\n",
            "Perform another transfer? (y/n): n\n"
          ]
        }
      ]
    },
    {
      "cell_type": "markdown",
      "source": [
        "#Task 4 A"
      ],
      "metadata": {
        "id": "bQ64-mLwQxb3"
      }
    },
    {
      "cell_type": "code",
      "source": [
        "import pandas as pd"
      ],
      "metadata": {
        "id": "CfYrmxcKQzDL"
      },
      "execution_count": 1,
      "outputs": []
    },
    {
      "cell_type": "code",
      "source": [
        " URL= 'https://gist.githubusercontent.com/anibali/c2abc8cab4a2f7b0a6518d11a67c693c/raw/3b1bb5264736bb762584104c9e7a828bef0f6ec8/penguins.csv'"
      ],
      "metadata": {
        "id": "ic78m05KQ1MR"
      },
      "execution_count": null,
      "outputs": []
    },
    {
      "cell_type": "code",
      "source": [
        " df = pd.read_csv (URL)\n",
        " print (df.head ( ))"
      ],
      "metadata": {
        "colab": {
          "base_uri": "https://localhost:8080/"
        },
        "id": "_9VQExLFQ4WH",
        "outputId": "d62c93a2-8ef2-4311-a06c-67192c6cc2b2"
      },
      "execution_count": null,
      "outputs": [
        {
          "output_type": "stream",
          "name": "stdout",
          "text": [
            "  species     island  bill_length_mm  bill_depth_mm  flipper_length_mm  \\\n",
            "0  Adelie  Torgersen            39.1           18.7              181.0   \n",
            "1  Adelie  Torgersen            39.5           17.4              186.0   \n",
            "2  Adelie  Torgersen            40.3           18.0              195.0   \n",
            "3  Adelie  Torgersen            36.7           19.3              193.0   \n",
            "4  Adelie  Torgersen            39.3           20.6              190.0   \n",
            "\n",
            "   body_mass_g     sex  \n",
            "0       3750.0    MALE  \n",
            "1       3800.0  FEMALE  \n",
            "2       3250.0  FEMALE  \n",
            "3       3450.0  FEMALE  \n",
            "4       3650.0    MALE  \n"
          ]
        }
      ]
    },
    {
      "cell_type": "code",
      "source": [
        "df.groupby('species').mean(numeric_only=True)"
      ],
      "metadata": {
        "colab": {
          "base_uri": "https://localhost:8080/",
          "height": 175
        },
        "id": "Dz_E72C4Q--D",
        "outputId": "f0d73f3c-002f-4162-964c-3bf5c1a93d6e"
      },
      "execution_count": null,
      "outputs": [
        {
          "output_type": "execute_result",
          "data": {
            "text/plain": [
              "           bill_length_mm  bill_depth_mm  flipper_length_mm  body_mass_g\n",
              "species                                                                 \n",
              "Adelie          38.823973      18.347260         190.102740  3706.164384\n",
              "Chinstrap       48.833824      18.420588         195.823529  3733.088235\n",
              "Gentoo          47.568067      14.996639         217.235294  5092.436975"
            ],
            "text/html": [
              "\n",
              "  <div id=\"df-88ccd637-bca3-44d9-81c0-060915583dd5\" class=\"colab-df-container\">\n",
              "    <div>\n",
              "<style scoped>\n",
              "    .dataframe tbody tr th:only-of-type {\n",
              "        vertical-align: middle;\n",
              "    }\n",
              "\n",
              "    .dataframe tbody tr th {\n",
              "        vertical-align: top;\n",
              "    }\n",
              "\n",
              "    .dataframe thead th {\n",
              "        text-align: right;\n",
              "    }\n",
              "</style>\n",
              "<table border=\"1\" class=\"dataframe\">\n",
              "  <thead>\n",
              "    <tr style=\"text-align: right;\">\n",
              "      <th></th>\n",
              "      <th>bill_length_mm</th>\n",
              "      <th>bill_depth_mm</th>\n",
              "      <th>flipper_length_mm</th>\n",
              "      <th>body_mass_g</th>\n",
              "    </tr>\n",
              "    <tr>\n",
              "      <th>species</th>\n",
              "      <th></th>\n",
              "      <th></th>\n",
              "      <th></th>\n",
              "      <th></th>\n",
              "    </tr>\n",
              "  </thead>\n",
              "  <tbody>\n",
              "    <tr>\n",
              "      <th>Adelie</th>\n",
              "      <td>38.823973</td>\n",
              "      <td>18.347260</td>\n",
              "      <td>190.102740</td>\n",
              "      <td>3706.164384</td>\n",
              "    </tr>\n",
              "    <tr>\n",
              "      <th>Chinstrap</th>\n",
              "      <td>48.833824</td>\n",
              "      <td>18.420588</td>\n",
              "      <td>195.823529</td>\n",
              "      <td>3733.088235</td>\n",
              "    </tr>\n",
              "    <tr>\n",
              "      <th>Gentoo</th>\n",
              "      <td>47.568067</td>\n",
              "      <td>14.996639</td>\n",
              "      <td>217.235294</td>\n",
              "      <td>5092.436975</td>\n",
              "    </tr>\n",
              "  </tbody>\n",
              "</table>\n",
              "</div>\n",
              "    <div class=\"colab-df-buttons\">\n",
              "\n",
              "  <div class=\"colab-df-container\">\n",
              "    <button class=\"colab-df-convert\" onclick=\"convertToInteractive('df-88ccd637-bca3-44d9-81c0-060915583dd5')\"\n",
              "            title=\"Convert this dataframe to an interactive table.\"\n",
              "            style=\"display:none;\">\n",
              "\n",
              "  <svg xmlns=\"http://www.w3.org/2000/svg\" height=\"24px\" viewBox=\"0 -960 960 960\">\n",
              "    <path d=\"M120-120v-720h720v720H120Zm60-500h600v-160H180v160Zm220 220h160v-160H400v160Zm0 220h160v-160H400v160ZM180-400h160v-160H180v160Zm440 0h160v-160H620v160ZM180-180h160v-160H180v160Zm440 0h160v-160H620v160Z\"/>\n",
              "  </svg>\n",
              "    </button>\n",
              "\n",
              "  <style>\n",
              "    .colab-df-container {\n",
              "      display:flex;\n",
              "      gap: 12px;\n",
              "    }\n",
              "\n",
              "    .colab-df-convert {\n",
              "      background-color: #E8F0FE;\n",
              "      border: none;\n",
              "      border-radius: 50%;\n",
              "      cursor: pointer;\n",
              "      display: none;\n",
              "      fill: #1967D2;\n",
              "      height: 32px;\n",
              "      padding: 0 0 0 0;\n",
              "      width: 32px;\n",
              "    }\n",
              "\n",
              "    .colab-df-convert:hover {\n",
              "      background-color: #E2EBFA;\n",
              "      box-shadow: 0px 1px 2px rgba(60, 64, 67, 0.3), 0px 1px 3px 1px rgba(60, 64, 67, 0.15);\n",
              "      fill: #174EA6;\n",
              "    }\n",
              "\n",
              "    .colab-df-buttons div {\n",
              "      margin-bottom: 4px;\n",
              "    }\n",
              "\n",
              "    [theme=dark] .colab-df-convert {\n",
              "      background-color: #3B4455;\n",
              "      fill: #D2E3FC;\n",
              "    }\n",
              "\n",
              "    [theme=dark] .colab-df-convert:hover {\n",
              "      background-color: #434B5C;\n",
              "      box-shadow: 0px 1px 3px 1px rgba(0, 0, 0, 0.15);\n",
              "      filter: drop-shadow(0px 1px 2px rgba(0, 0, 0, 0.3));\n",
              "      fill: #FFFFFF;\n",
              "    }\n",
              "  </style>\n",
              "\n",
              "    <script>\n",
              "      const buttonEl =\n",
              "        document.querySelector('#df-88ccd637-bca3-44d9-81c0-060915583dd5 button.colab-df-convert');\n",
              "      buttonEl.style.display =\n",
              "        google.colab.kernel.accessAllowed ? 'block' : 'none';\n",
              "\n",
              "      async function convertToInteractive(key) {\n",
              "        const element = document.querySelector('#df-88ccd637-bca3-44d9-81c0-060915583dd5');\n",
              "        const dataTable =\n",
              "          await google.colab.kernel.invokeFunction('convertToInteractive',\n",
              "                                                    [key], {});\n",
              "        if (!dataTable) return;\n",
              "\n",
              "        const docLinkHtml = 'Like what you see? Visit the ' +\n",
              "          '<a target=\"_blank\" href=https://colab.research.google.com/notebooks/data_table.ipynb>data table notebook</a>'\n",
              "          + ' to learn more about interactive tables.';\n",
              "        element.innerHTML = '';\n",
              "        dataTable['output_type'] = 'display_data';\n",
              "        await google.colab.output.renderOutput(dataTable, element);\n",
              "        const docLink = document.createElement('div');\n",
              "        docLink.innerHTML = docLinkHtml;\n",
              "        element.appendChild(docLink);\n",
              "      }\n",
              "    </script>\n",
              "  </div>\n",
              "\n",
              "\n",
              "<div id=\"df-d001a150-b411-432e-91eb-ae133e0e8b4c\">\n",
              "  <button class=\"colab-df-quickchart\" onclick=\"quickchart('df-d001a150-b411-432e-91eb-ae133e0e8b4c')\"\n",
              "            title=\"Suggest charts\"\n",
              "            style=\"display:none;\">\n",
              "\n",
              "<svg xmlns=\"http://www.w3.org/2000/svg\" height=\"24px\"viewBox=\"0 0 24 24\"\n",
              "     width=\"24px\">\n",
              "    <g>\n",
              "        <path d=\"M19 3H5c-1.1 0-2 .9-2 2v14c0 1.1.9 2 2 2h14c1.1 0 2-.9 2-2V5c0-1.1-.9-2-2-2zM9 17H7v-7h2v7zm4 0h-2V7h2v10zm4 0h-2v-4h2v4z\"/>\n",
              "    </g>\n",
              "</svg>\n",
              "  </button>\n",
              "\n",
              "<style>\n",
              "  .colab-df-quickchart {\n",
              "      --bg-color: #E8F0FE;\n",
              "      --fill-color: #1967D2;\n",
              "      --hover-bg-color: #E2EBFA;\n",
              "      --hover-fill-color: #174EA6;\n",
              "      --disabled-fill-color: #AAA;\n",
              "      --disabled-bg-color: #DDD;\n",
              "  }\n",
              "\n",
              "  [theme=dark] .colab-df-quickchart {\n",
              "      --bg-color: #3B4455;\n",
              "      --fill-color: #D2E3FC;\n",
              "      --hover-bg-color: #434B5C;\n",
              "      --hover-fill-color: #FFFFFF;\n",
              "      --disabled-bg-color: #3B4455;\n",
              "      --disabled-fill-color: #666;\n",
              "  }\n",
              "\n",
              "  .colab-df-quickchart {\n",
              "    background-color: var(--bg-color);\n",
              "    border: none;\n",
              "    border-radius: 50%;\n",
              "    cursor: pointer;\n",
              "    display: none;\n",
              "    fill: var(--fill-color);\n",
              "    height: 32px;\n",
              "    padding: 0;\n",
              "    width: 32px;\n",
              "  }\n",
              "\n",
              "  .colab-df-quickchart:hover {\n",
              "    background-color: var(--hover-bg-color);\n",
              "    box-shadow: 0 1px 2px rgba(60, 64, 67, 0.3), 0 1px 3px 1px rgba(60, 64, 67, 0.15);\n",
              "    fill: var(--button-hover-fill-color);\n",
              "  }\n",
              "\n",
              "  .colab-df-quickchart-complete:disabled,\n",
              "  .colab-df-quickchart-complete:disabled:hover {\n",
              "    background-color: var(--disabled-bg-color);\n",
              "    fill: var(--disabled-fill-color);\n",
              "    box-shadow: none;\n",
              "  }\n",
              "\n",
              "  .colab-df-spinner {\n",
              "    border: 2px solid var(--fill-color);\n",
              "    border-color: transparent;\n",
              "    border-bottom-color: var(--fill-color);\n",
              "    animation:\n",
              "      spin 1s steps(1) infinite;\n",
              "  }\n",
              "\n",
              "  @keyframes spin {\n",
              "    0% {\n",
              "      border-color: transparent;\n",
              "      border-bottom-color: var(--fill-color);\n",
              "      border-left-color: var(--fill-color);\n",
              "    }\n",
              "    20% {\n",
              "      border-color: transparent;\n",
              "      border-left-color: var(--fill-color);\n",
              "      border-top-color: var(--fill-color);\n",
              "    }\n",
              "    30% {\n",
              "      border-color: transparent;\n",
              "      border-left-color: var(--fill-color);\n",
              "      border-top-color: var(--fill-color);\n",
              "      border-right-color: var(--fill-color);\n",
              "    }\n",
              "    40% {\n",
              "      border-color: transparent;\n",
              "      border-right-color: var(--fill-color);\n",
              "      border-top-color: var(--fill-color);\n",
              "    }\n",
              "    60% {\n",
              "      border-color: transparent;\n",
              "      border-right-color: var(--fill-color);\n",
              "    }\n",
              "    80% {\n",
              "      border-color: transparent;\n",
              "      border-right-color: var(--fill-color);\n",
              "      border-bottom-color: var(--fill-color);\n",
              "    }\n",
              "    90% {\n",
              "      border-color: transparent;\n",
              "      border-bottom-color: var(--fill-color);\n",
              "    }\n",
              "  }\n",
              "</style>\n",
              "\n",
              "  <script>\n",
              "    async function quickchart(key) {\n",
              "      const quickchartButtonEl =\n",
              "        document.querySelector('#' + key + ' button');\n",
              "      quickchartButtonEl.disabled = true;  // To prevent multiple clicks.\n",
              "      quickchartButtonEl.classList.add('colab-df-spinner');\n",
              "      try {\n",
              "        const charts = await google.colab.kernel.invokeFunction(\n",
              "            'suggestCharts', [key], {});\n",
              "      } catch (error) {\n",
              "        console.error('Error during call to suggestCharts:', error);\n",
              "      }\n",
              "      quickchartButtonEl.classList.remove('colab-df-spinner');\n",
              "      quickchartButtonEl.classList.add('colab-df-quickchart-complete');\n",
              "    }\n",
              "    (() => {\n",
              "      let quickchartButtonEl =\n",
              "        document.querySelector('#df-d001a150-b411-432e-91eb-ae133e0e8b4c button');\n",
              "      quickchartButtonEl.style.display =\n",
              "        google.colab.kernel.accessAllowed ? 'block' : 'none';\n",
              "    })();\n",
              "  </script>\n",
              "</div>\n",
              "\n",
              "    </div>\n",
              "  </div>\n"
            ],
            "application/vnd.google.colaboratory.intrinsic+json": {
              "type": "dataframe",
              "summary": "{\n  \"name\": \"df\",\n  \"rows\": 3,\n  \"fields\": [\n    {\n      \"column\": \"species\",\n      \"properties\": {\n        \"dtype\": \"string\",\n        \"num_unique_values\": 3,\n        \"samples\": [\n          \"Adelie\",\n          \"Chinstrap\",\n          \"Gentoo\"\n        ],\n        \"semantic_type\": \"\",\n        \"description\": \"\"\n      }\n    },\n    {\n      \"column\": \"bill_length_mm\",\n      \"properties\": {\n        \"dtype\": \"number\",\n        \"std\": 5.450664262082735,\n        \"min\": 38.82397260273973,\n        \"max\": 48.83382352941176,\n        \"num_unique_values\": 3,\n        \"samples\": [\n          38.82397260273973,\n          48.83382352941176,\n          47.56806722689076\n        ],\n        \"semantic_type\": \"\",\n        \"description\": \"\"\n      }\n    },\n    {\n      \"column\": \"bill_depth_mm\",\n      \"properties\": {\n        \"dtype\": \"number\",\n        \"std\": 1.9559939053062931,\n        \"min\": 14.996638655462185,\n        \"max\": 18.420588235294115,\n        \"num_unique_values\": 3,\n        \"samples\": [\n          18.3472602739726,\n          18.420588235294115,\n          14.996638655462185\n        ],\n        \"semantic_type\": \"\",\n        \"description\": \"\"\n      }\n    },\n    {\n      \"column\": \"flipper_length_mm\",\n      \"properties\": {\n        \"dtype\": \"number\",\n        \"std\": 14.302485857725967,\n        \"min\": 190.1027397260274,\n        \"max\": 217.23529411764707,\n        \"num_unique_values\": 3,\n        \"samples\": [\n          190.1027397260274,\n          195.8235294117647,\n          217.23529411764707\n        ],\n        \"semantic_type\": \"\",\n        \"description\": \"\"\n      }\n    },\n    {\n      \"column\": \"body_mass_g\",\n      \"properties\": {\n        \"dtype\": \"number\",\n        \"std\": 792.7069221504754,\n        \"min\": 3706.1643835616437,\n        \"max\": 5092.436974789916,\n        \"num_unique_values\": 3,\n        \"samples\": [\n          3706.1643835616437,\n          3733.0882352941176,\n          5092.436974789916\n        ],\n        \"semantic_type\": \"\",\n        \"description\": \"\"\n      }\n    }\n  ]\n}"
            }
          },
          "metadata": {},
          "execution_count": 23
        }
      ]
    },
    {
      "cell_type": "markdown",
      "source": [
        "#Task 4 B"
      ],
      "metadata": {
        "id": "C8Z7EX7ZSRPc"
      }
    },
    {
      "cell_type": "code",
      "source": [
        "import matplotlib.pyplot as plt"
      ],
      "metadata": {
        "id": "9HAtLAJIRgqP"
      },
      "execution_count": null,
      "outputs": []
    },
    {
      "cell_type": "code",
      "source": [
        "adelie = df[df['species'] == 'Adelie']\n",
        "chinstrap = df[df['species'] == 'Chinstrap']\n",
        "gentoo = df[df['species'] == 'Gentoo']\n",
        "\n",
        "plt.figure(figsize=(10, 6))\n",
        "plt.scatter(adelie['body_mass_g'], adelie['bill_length_mm'], color='red', label='Adelie')\n",
        "plt.scatter(chinstrap['body_mass_g'], chinstrap['bill_length_mm'], color='grey', label='Chinstrap')\n",
        "plt.scatter(gentoo['body_mass_g'], gentoo['bill_length_mm'], color='blue', label='Gentoo')\n",
        "\n",
        "plt.title('Penguin measurements by species')\n",
        "plt.xlabel('Body mass (g)')\n",
        "plt.ylabel('Bill length (mm)')\n",
        "\n",
        "plt.legend()\n",
        "plt.show()"
      ],
      "metadata": {
        "colab": {
          "base_uri": "https://localhost:8080/",
          "height": 564
        },
        "id": "Q7r7N3MaSXNy",
        "outputId": "fc37531d-e62b-4baf-c98b-f6b2d8ac1370"
      },
      "execution_count": null,
      "outputs": [
        {
          "output_type": "display_data",
          "data": {
            "text/plain": [
              "<Figure size 1000x600 with 1 Axes>"
            ],
            "image/png": "[encoded data removed]"
          },
          "metadata": {}
        }
      ]
    },
    {
      "cell_type": "markdown",
      "source": [
        "#Task 4 C"
      ],
      "metadata": {
        "id": "pgaGkYgzSqDZ"
      }
    },
    {
      "cell_type": "code",
      "source": [
        "df['bill_proportion'] = df['bill_length_mm'] / df['bill_depth_mm']\n",
        "\n",
        "adelie = df[df['species'] == 'Adelie']\n",
        "chinstrap = df[df['species'] == 'Chinstrap']\n",
        "gentoo = df[df['species'] == 'Gentoo']\n",
        "\n",
        "plt.figure(figsize=(10, 6))\n",
        "plt.scatter(adelie['body_mass_g'], adelie['bill_proportion'], color='red', label='Adelie')\n",
        "plt.scatter(chinstrap['body_mass_g'], chinstrap['bill_proportion'], color='grey', label='Chinstrap')\n",
        "plt.scatter(gentoo['body_mass_g'], gentoo['bill_proportion'], color='blue', label='Gentoo')\n",
        "\n",
        "plt.title('Penguin proportions by species')\n",
        "plt.xlabel('Body mass (g)')\n",
        "plt.ylabel('Bill proportion (length/width)')\n",
        "\n",
        "plt.legend()\n",
        "plt.show()"
      ],
      "metadata": {
        "colab": {
          "base_uri": "https://localhost:8080/",
          "height": 564
        },
        "id": "8wKOrV_nSrvC",
        "outputId": "3b9c38ff-ec48-453b-8e44-d36b0757641d"
      },
      "execution_count": null,
      "outputs": [
        {
          "output_type": "display_data",
          "data": {
            "text/plain": [
              "<Figure size 1000x600 with 1 Axes>"
            ],
            "image/png": "[encoded data removed]"
          },
          "metadata": {}
        }
      ]
    }
  ]
}